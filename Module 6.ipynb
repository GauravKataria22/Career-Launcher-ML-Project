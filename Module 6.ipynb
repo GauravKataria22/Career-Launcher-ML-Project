{
 "cells": [
  {
   "cell_type": "code",
   "execution_count": null,
   "metadata": {},
   "outputs": [],
   "source": [
    "# Module 6 submission by Gaurav Kataria\n",
    "# Problem statement 6.1\n",
    "# To Do - \n",
    "# 1. Create a table\\data frame with the closing prices of 30 stocks, 10 each from different caps"
   ]
  },
  {
   "cell_type": "code",
   "execution_count": 2,
   "metadata": {},
   "outputs": [],
   "source": [
    "from pylab import plot,show\n",
    "from numpy import vstack,array\n",
    "from numpy.random import rand\n",
    "import numpy as np\n",
    "from scipy.cluster.vq import kmeans,vq\n",
    "import pandas as pd\n",
    "from math import sqrt\n",
    "from sklearn.cluster import KMeans\n",
    "from matplotlib import pyplot as plt"
   ]
  },
  {
   "cell_type": "code",
   "execution_count": 3,
   "metadata": {},
   "outputs": [],
   "source": [
    "dd = pd.DataFrame()"
   ]
  },
  {
   "cell_type": "code",
   "execution_count": 4,
   "metadata": {},
   "outputs": [],
   "source": [
    "fortis= pd.read_csv(r'C:\\Users\\gaura\\Desktop\\Small_Cap\\FORTIS.csv')\n",
    "dd['Fortis'] = fortis['Close Price']"
   ]
  },
  {
   "cell_type": "code",
   "execution_count": 5,
   "metadata": {},
   "outputs": [],
   "source": [
    "idfc= pd.read_csv(r'C:\\Users\\gaura\\Desktop\\Small_Cap\\IDFC.csv')\n",
    "dd['IDFC'] = idfc['Close Price']"
   ]
  },
  {
   "cell_type": "code",
   "execution_count": 6,
   "metadata": {},
   "outputs": [],
   "source": [
    "jet= pd.read_csv(r'C:\\Users\\gaura\\Desktop\\Small_Cap\\JETAIRWAYS.csv')\n",
    "dd['JETAIRWAYS'] = jet['Close Price']"
   ]
  },
  {
   "cell_type": "code",
   "execution_count": 7,
   "metadata": {},
   "outputs": [],
   "source": [
    "pvr= pd.read_csv(r'C:\\Users\\gaura\\Desktop\\Small_Cap\\PVR.csv')\n",
    "dd['PVR'] = pvr['Close Price']"
   ]
  },
  {
   "cell_type": "code",
   "execution_count": 8,
   "metadata": {},
   "outputs": [],
   "source": [
    "wsd= pd.read_csv(r'C:\\Users\\gaura\\Desktop\\Small_Cap\\WELSPUNIND.csv')\n",
    "dd['WELSPUNIND'] = wsd['Close Price']"
   ]
  },
  {
   "cell_type": "code",
   "execution_count": 9,
   "metadata": {},
   "outputs": [],
   "source": [
    "ray= pd.read_csv(r'C:\\Users\\gaura\\Desktop\\Small_Cap\\RAYMOND.csv')\n",
    "dd['RAYMOND'] = ray['Close Price']"
   ]
  },
  {
   "cell_type": "code",
   "execution_count": 10,
   "metadata": {},
   "outputs": [],
   "source": [
    "lt= pd.read_csv(r'C:\\Users\\gaura\\Desktop\\Small_Cap\\LEMONTREE.csv')\n",
    "dd['LEMONTREE'] = lt['Close Price']"
   ]
  },
  {
   "cell_type": "code",
   "execution_count": 11,
   "metadata": {},
   "outputs": [],
   "source": [
    "ncc= pd.read_csv(r'C:\\Users\\gaura\\Desktop\\Small_Cap\\NCC.csv')\n",
    "dd['NCC'] = ncc['Close Price']"
   ]
  },
  {
   "cell_type": "code",
   "execution_count": 12,
   "metadata": {},
   "outputs": [],
   "source": [
    "lpl= pd.read_csv(r'C:\\Users\\gaura\\Desktop\\Small_Cap\\LALPATHLAB.csv')\n",
    "dd['LALPATHLAB'] = lpl['Close Price']"
   ]
  },
  {
   "cell_type": "code",
   "execution_count": 13,
   "metadata": {},
   "outputs": [],
   "source": [
    "guj= pd.read_csv(r'C:\\Users\\gaura\\Desktop\\Small_Cap\\GUJALKALI.csv')\n",
    "dd['GUJALKALI'] = guj['Close Price']"
   ]
  },
  {
   "cell_type": "code",
   "execution_count": 14,
   "metadata": {},
   "outputs": [],
   "source": [
    "ap= pd.read_csv(r'C:\\Users\\gaura\\Desktop\\Mid_Cap\\ADANIPOWER.csv')\n",
    "dd['ADANIPOWER'] = ap['Close Price']"
   ]
  },
  {
   "cell_type": "code",
   "execution_count": 15,
   "metadata": {},
   "outputs": [],
   "source": [
    "ajt= pd.read_csv(r'C:\\Users\\gaura\\Desktop\\Mid_Cap\\AMARAJABAT.csv')\n",
    "dd['AMARAJABAT'] = ajt['Close Price']"
   ]
  },
  {
   "cell_type": "code",
   "execution_count": 16,
   "metadata": {},
   "outputs": [],
   "source": [
    "mf= pd.read_csv(r'C:\\Users\\gaura\\Desktop\\Mid_Cap\\MUTHOOTFIN.csv')\n",
    "dd['MUTHOOTFIN'] = mf['Close Price']"
   ]
  },
  {
   "cell_type": "code",
   "execution_count": 17,
   "metadata": {},
   "outputs": [],
   "source": [
    "rfra= pd.read_csv(r'C:\\Users\\gaura\\Desktop\\Mid_Cap\\RELINFRA.csv')\n",
    "dd['RELINFRA'] = rfra['Close Price']"
   ]
  },
  {
   "cell_type": "code",
   "execution_count": 18,
   "metadata": {},
   "outputs": [],
   "source": [
    "pnb= pd.read_csv(r'C:\\Users\\gaura\\Desktop\\Mid_Cap\\PNB.csv')\n",
    "dd['PNB'] = pnb['Close Price']"
   ]
  },
  {
   "cell_type": "code",
   "execution_count": 19,
   "metadata": {},
   "outputs": [],
   "source": [
    "jbf= pd.read_csv(r'C:\\Users\\gaura\\Desktop\\Mid_Cap\\JUBLFOOD.csv')\n",
    "dd['JUBLFOOD'] = jbf['Close Price']"
   ]
  },
  {
   "cell_type": "code",
   "execution_count": 20,
   "metadata": {},
   "outputs": [],
   "source": [
    "gj= pd.read_csv(r'C:\\Users\\gaura\\Desktop\\Mid_Cap\\GODREJIND.csv')\n",
    "dd['GODREJIND'] = gj['Close Price']"
   ]
  },
  {
   "cell_type": "code",
   "execution_count": 21,
   "metadata": {},
   "outputs": [],
   "source": [
    "idbi= pd.read_csv(r'C:\\Users\\gaura\\Desktop\\Mid_Cap\\IDBI.csv')\n",
    "dd['IDBI'] = idbi['Close Price']"
   ]
  },
  {
   "cell_type": "code",
   "execution_count": 22,
   "metadata": {},
   "outputs": [],
   "source": [
    "rblb= pd.read_csv(r'C:\\Users\\gaura\\Desktop\\Mid_Cap\\RBLBANK.csv')\n",
    "dd['RBLBANK'] = rblb['Close Price']"
   ]
  },
  {
   "cell_type": "code",
   "execution_count": 23,
   "metadata": {},
   "outputs": [],
   "source": [
    "jst= pd.read_csv(r'C:\\Users\\gaura\\Desktop\\Mid_Cap\\JINDALSTEL.csv')\n",
    "dd['JINDALSTEL'] = jst['Close Price']"
   ]
  },
  {
   "cell_type": "code",
   "execution_count": 24,
   "metadata": {},
   "outputs": [],
   "source": [
    "aps= pd.read_csv(r'C:\\Users\\gaura\\Desktop\\Large_Cap\\ADANIPORTS.csv')\n",
    "dd['ADANIPORTS'] = aps['Close Price']"
   ]
  },
  {
   "cell_type": "code",
   "execution_count": 25,
   "metadata": {},
   "outputs": [],
   "source": [
    "ab= pd.read_csv(r'C:\\Users\\gaura\\Desktop\\Large_Cap\\AXISBANK.csv')\n",
    "dd['AXISBANK'] = ab['Close Price']"
   ]
  },
  {
   "cell_type": "code",
   "execution_count": 26,
   "metadata": {},
   "outputs": [],
   "source": [
    "lt= pd.read_csv(r'C:\\Users\\gaura\\Desktop\\Large_Cap\\LT.csv')\n",
    "dd['LT'] = lt['Close Price']"
   ]
  },
  {
   "cell_type": "code",
   "execution_count": 27,
   "metadata": {},
   "outputs": [],
   "source": [
    "maru= pd.read_csv(r'C:\\Users\\gaura\\Desktop\\Large_Cap\\MARUTI.csv')\n",
    "dd['MARUTI'] = maru['Close Price']"
   ]
  },
  {
   "cell_type": "code",
   "execution_count": 29,
   "metadata": {},
   "outputs": [],
   "source": [
    "mm= pd.read_csv(r'C:\\Users\\gaura\\Desktop\\Large_Cap\\M&M.csv')\n",
    "dd['M&M'] = mm['Close Price']"
   ]
  },
  {
   "cell_type": "code",
   "execution_count": 30,
   "metadata": {},
   "outputs": [],
   "source": [
    "rel= pd.read_csv(r'C:\\Users\\gaura\\Desktop\\Large_Cap\\RELIANCE.csv')\n",
    "dd['RELIANCE'] = rel['Close Price']"
   ]
  },
  {
   "cell_type": "code",
   "execution_count": 31,
   "metadata": {},
   "outputs": [],
   "source": [
    "sph= pd.read_csv(r'C:\\Users\\gaura\\Desktop\\Large_Cap\\SUNPHARMA.csv')\n",
    "dd['SUNPHARMA'] = sph['Close Price']"
   ]
  },
  {
   "cell_type": "code",
   "execution_count": 32,
   "metadata": {},
   "outputs": [],
   "source": [
    "itc= pd.read_csv(r'C:\\Users\\gaura\\Desktop\\Large_Cap\\ITC.csv')\n",
    "dd['ITC'] = itc['Close Price']"
   ]
  },
  {
   "cell_type": "code",
   "execution_count": 33,
   "metadata": {},
   "outputs": [],
   "source": [
    "gail= pd.read_csv(r'C:\\Users\\gaura\\Desktop\\Large_Cap\\GAIL.csv')\n",
    "dd['GAIL'] = gail['Close Price']"
   ]
  },
  {
   "cell_type": "code",
   "execution_count": 34,
   "metadata": {},
   "outputs": [],
   "source": [
    "hdfc= pd.read_csv(r'C:\\Users\\gaura\\Desktop\\Large_Cap\\HDFC.csv')\n",
    "dd['HDFC'] = hdfc['Close Price']"
   ]
  },
  {
   "cell_type": "code",
   "execution_count": 35,
   "metadata": {},
   "outputs": [],
   "source": [
    "dd['Date'] = jet['Date']\n",
    "dd['Date'] = pd.to_datetime(dd['Date'])"
   ]
  },
  {
   "cell_type": "code",
   "execution_count": 36,
   "metadata": {},
   "outputs": [],
   "source": [
    "dd.set_index('Date',inplace = True)"
   ]
  },
  {
   "cell_type": "code",
   "execution_count": 37,
   "metadata": {
    "scrolled": true
   },
   "outputs": [
    {
     "data": {
      "text/html": [
       "<div>\n",
       "<style scoped>\n",
       "    .dataframe tbody tr th:only-of-type {\n",
       "        vertical-align: middle;\n",
       "    }\n",
       "\n",
       "    .dataframe tbody tr th {\n",
       "        vertical-align: top;\n",
       "    }\n",
       "\n",
       "    .dataframe thead th {\n",
       "        text-align: right;\n",
       "    }\n",
       "</style>\n",
       "<table border=\"1\" class=\"dataframe\">\n",
       "  <thead>\n",
       "    <tr style=\"text-align: right;\">\n",
       "      <th></th>\n",
       "      <th>Fortis</th>\n",
       "      <th>IDFC</th>\n",
       "      <th>JETAIRWAYS</th>\n",
       "      <th>PVR</th>\n",
       "      <th>WELSPUNIND</th>\n",
       "      <th>RAYMOND</th>\n",
       "      <th>LEMONTREE</th>\n",
       "      <th>NCC</th>\n",
       "      <th>LALPATHLAB</th>\n",
       "      <th>GUJALKALI</th>\n",
       "      <th>...</th>\n",
       "      <th>ADANIPORTS</th>\n",
       "      <th>AXISBANK</th>\n",
       "      <th>LT</th>\n",
       "      <th>MARUTI</th>\n",
       "      <th>M&amp;M</th>\n",
       "      <th>RELIANCE</th>\n",
       "      <th>SUNPHARMA</th>\n",
       "      <th>ITC</th>\n",
       "      <th>GAIL</th>\n",
       "      <th>HDFC</th>\n",
       "    </tr>\n",
       "    <tr>\n",
       "      <th>Date</th>\n",
       "      <th></th>\n",
       "      <th></th>\n",
       "      <th></th>\n",
       "      <th></th>\n",
       "      <th></th>\n",
       "      <th></th>\n",
       "      <th></th>\n",
       "      <th></th>\n",
       "      <th></th>\n",
       "      <th></th>\n",
       "      <th></th>\n",
       "      <th></th>\n",
       "      <th></th>\n",
       "      <th></th>\n",
       "      <th></th>\n",
       "      <th></th>\n",
       "      <th></th>\n",
       "      <th></th>\n",
       "      <th></th>\n",
       "      <th></th>\n",
       "      <th></th>\n",
       "    </tr>\n",
       "  </thead>\n",
       "  <tbody>\n",
       "    <tr>\n",
       "      <th>2017-05-15</th>\n",
       "      <td>205.25</td>\n",
       "      <td>63.70</td>\n",
       "      <td>527.50</td>\n",
       "      <td>1524.95</td>\n",
       "      <td>90.25</td>\n",
       "      <td>772.80</td>\n",
       "      <td>71.65</td>\n",
       "      <td>97.35</td>\n",
       "      <td>900.60</td>\n",
       "      <td>457.35</td>\n",
       "      <td>...</td>\n",
       "      <td>356.20</td>\n",
       "      <td>500.10</td>\n",
       "      <td>1742.40</td>\n",
       "      <td>6823.90</td>\n",
       "      <td>1375.65</td>\n",
       "      <td>1344.10</td>\n",
       "      <td>654.45</td>\n",
       "      <td>277.95</td>\n",
       "      <td>414.00</td>\n",
       "      <td>1559.50</td>\n",
       "    </tr>\n",
       "    <tr>\n",
       "      <th>2017-05-16</th>\n",
       "      <td>207.90</td>\n",
       "      <td>64.25</td>\n",
       "      <td>534.15</td>\n",
       "      <td>1539.00</td>\n",
       "      <td>90.65</td>\n",
       "      <td>785.00</td>\n",
       "      <td>66.85</td>\n",
       "      <td>100.40</td>\n",
       "      <td>910.95</td>\n",
       "      <td>455.25</td>\n",
       "      <td>...</td>\n",
       "      <td>354.50</td>\n",
       "      <td>501.50</td>\n",
       "      <td>1740.70</td>\n",
       "      <td>6953.95</td>\n",
       "      <td>1366.35</td>\n",
       "      <td>1356.30</td>\n",
       "      <td>652.35</td>\n",
       "      <td>283.45</td>\n",
       "      <td>411.40</td>\n",
       "      <td>205.00</td>\n",
       "    </tr>\n",
       "    <tr>\n",
       "      <th>2017-05-17</th>\n",
       "      <td>205.90</td>\n",
       "      <td>63.35</td>\n",
       "      <td>528.90</td>\n",
       "      <td>1530.30</td>\n",
       "      <td>88.85</td>\n",
       "      <td>783.65</td>\n",
       "      <td>66.95</td>\n",
       "      <td>101.45</td>\n",
       "      <td>911.70</td>\n",
       "      <td>472.65</td>\n",
       "      <td>...</td>\n",
       "      <td>348.55</td>\n",
       "      <td>502.80</td>\n",
       "      <td>1755.45</td>\n",
       "      <td>6958.20</td>\n",
       "      <td>1378.80</td>\n",
       "      <td>1353.10</td>\n",
       "      <td>650.90</td>\n",
       "      <td>281.65</td>\n",
       "      <td>408.30</td>\n",
       "      <td>1566.55</td>\n",
       "    </tr>\n",
       "    <tr>\n",
       "      <th>2017-05-18</th>\n",
       "      <td>196.85</td>\n",
       "      <td>61.50</td>\n",
       "      <td>522.70</td>\n",
       "      <td>1515.05</td>\n",
       "      <td>86.90</td>\n",
       "      <td>746.95</td>\n",
       "      <td>66.40</td>\n",
       "      <td>97.00</td>\n",
       "      <td>909.75</td>\n",
       "      <td>461.85</td>\n",
       "      <td>...</td>\n",
       "      <td>347.90</td>\n",
       "      <td>492.00</td>\n",
       "      <td>1722.60</td>\n",
       "      <td>6831.05</td>\n",
       "      <td>1352.85</td>\n",
       "      <td>1327.35</td>\n",
       "      <td>653.95</td>\n",
       "      <td>277.90</td>\n",
       "      <td>404.75</td>\n",
       "      <td>1552.50</td>\n",
       "    </tr>\n",
       "    <tr>\n",
       "      <th>2017-05-19</th>\n",
       "      <td>203.55</td>\n",
       "      <td>61.15</td>\n",
       "      <td>520.40</td>\n",
       "      <td>1513.55</td>\n",
       "      <td>85.05</td>\n",
       "      <td>723.10</td>\n",
       "      <td>67.70</td>\n",
       "      <td>95.45</td>\n",
       "      <td>910.25</td>\n",
       "      <td>455.35</td>\n",
       "      <td>...</td>\n",
       "      <td>349.45</td>\n",
       "      <td>501.70</td>\n",
       "      <td>1724.55</td>\n",
       "      <td>6790.55</td>\n",
       "      <td>1333.40</td>\n",
       "      <td>1318.85</td>\n",
       "      <td>653.15</td>\n",
       "      <td>286.20</td>\n",
       "      <td>401.05</td>\n",
       "      <td>207.00</td>\n",
       "    </tr>\n",
       "    <tr>\n",
       "      <th>...</th>\n",
       "      <td>...</td>\n",
       "      <td>...</td>\n",
       "      <td>...</td>\n",
       "      <td>...</td>\n",
       "      <td>...</td>\n",
       "      <td>...</td>\n",
       "      <td>...</td>\n",
       "      <td>...</td>\n",
       "      <td>...</td>\n",
       "      <td>...</td>\n",
       "      <td>...</td>\n",
       "      <td>...</td>\n",
       "      <td>...</td>\n",
       "      <td>...</td>\n",
       "      <td>...</td>\n",
       "      <td>...</td>\n",
       "      <td>...</td>\n",
       "      <td>...</td>\n",
       "      <td>...</td>\n",
       "      <td>...</td>\n",
       "      <td>...</td>\n",
       "    </tr>\n",
       "    <tr>\n",
       "      <th>2019-05-08</th>\n",
       "      <td>135.20</td>\n",
       "      <td>37.10</td>\n",
       "      <td>131.35</td>\n",
       "      <td>1780.10</td>\n",
       "      <td>52.45</td>\n",
       "      <td>807.10</td>\n",
       "      <td>NaN</td>\n",
       "      <td>96.75</td>\n",
       "      <td>1013.10</td>\n",
       "      <td>522.90</td>\n",
       "      <td>...</td>\n",
       "      <td>371.90</td>\n",
       "      <td>741.85</td>\n",
       "      <td>1360.35</td>\n",
       "      <td>6709.65</td>\n",
       "      <td>645.80</td>\n",
       "      <td>1343.50</td>\n",
       "      <td>448.20</td>\n",
       "      <td>307.00</td>\n",
       "      <td>337.50</td>\n",
       "      <td>1875.10</td>\n",
       "    </tr>\n",
       "    <tr>\n",
       "      <th>2019-05-09</th>\n",
       "      <td>133.60</td>\n",
       "      <td>37.60</td>\n",
       "      <td>147.40</td>\n",
       "      <td>1748.50</td>\n",
       "      <td>51.50</td>\n",
       "      <td>805.30</td>\n",
       "      <td>NaN</td>\n",
       "      <td>93.70</td>\n",
       "      <td>1006.10</td>\n",
       "      <td>510.10</td>\n",
       "      <td>...</td>\n",
       "      <td>369.80</td>\n",
       "      <td>735.50</td>\n",
       "      <td>1356.45</td>\n",
       "      <td>6702.00</td>\n",
       "      <td>638.50</td>\n",
       "      <td>1299.45</td>\n",
       "      <td>439.15</td>\n",
       "      <td>301.90</td>\n",
       "      <td>340.40</td>\n",
       "      <td>399.05</td>\n",
       "    </tr>\n",
       "    <tr>\n",
       "      <th>2019-05-10</th>\n",
       "      <td>133.00</td>\n",
       "      <td>37.60</td>\n",
       "      <td>151.75</td>\n",
       "      <td>1758.45</td>\n",
       "      <td>52.60</td>\n",
       "      <td>804.40</td>\n",
       "      <td>NaN</td>\n",
       "      <td>92.65</td>\n",
       "      <td>982.90</td>\n",
       "      <td>505.05</td>\n",
       "      <td>...</td>\n",
       "      <td>363.90</td>\n",
       "      <td>731.00</td>\n",
       "      <td>1355.50</td>\n",
       "      <td>6650.15</td>\n",
       "      <td>636.00</td>\n",
       "      <td>1256.45</td>\n",
       "      <td>439.35</td>\n",
       "      <td>300.65</td>\n",
       "      <td>341.55</td>\n",
       "      <td>1853.00</td>\n",
       "    </tr>\n",
       "    <tr>\n",
       "      <th>2019-05-13</th>\n",
       "      <td>131.90</td>\n",
       "      <td>38.10</td>\n",
       "      <td>139.10</td>\n",
       "      <td>1715.40</td>\n",
       "      <td>51.50</td>\n",
       "      <td>779.35</td>\n",
       "      <td>NaN</td>\n",
       "      <td>93.60</td>\n",
       "      <td>980.65</td>\n",
       "      <td>493.95</td>\n",
       "      <td>...</td>\n",
       "      <td>372.55</td>\n",
       "      <td>735.05</td>\n",
       "      <td>1317.65</td>\n",
       "      <td>6624.95</td>\n",
       "      <td>621.65</td>\n",
       "      <td>1251.15</td>\n",
       "      <td>437.75</td>\n",
       "      <td>299.85</td>\n",
       "      <td>332.05</td>\n",
       "      <td>380.15</td>\n",
       "    </tr>\n",
       "    <tr>\n",
       "      <th>NaT</th>\n",
       "      <td>129.70</td>\n",
       "      <td>34.75</td>\n",
       "      <td>NaN</td>\n",
       "      <td>1724.00</td>\n",
       "      <td>NaN</td>\n",
       "      <td>NaN</td>\n",
       "      <td>NaN</td>\n",
       "      <td>91.45</td>\n",
       "      <td>976.25</td>\n",
       "      <td>NaN</td>\n",
       "      <td>...</td>\n",
       "      <td>364.75</td>\n",
       "      <td>732.10</td>\n",
       "      <td>NaN</td>\n",
       "      <td>6631.60</td>\n",
       "      <td>625.45</td>\n",
       "      <td>1232.05</td>\n",
       "      <td>398.10</td>\n",
       "      <td>297.75</td>\n",
       "      <td>NaN</td>\n",
       "      <td>1819.20</td>\n",
       "    </tr>\n",
       "  </tbody>\n",
       "</table>\n",
       "<p>495 rows × 30 columns</p>\n",
       "</div>"
      ],
      "text/plain": [
       "            Fortis   IDFC  JETAIRWAYS      PVR  WELSPUNIND  RAYMOND  \\\n",
       "Date                                                                  \n",
       "2017-05-15  205.25  63.70      527.50  1524.95       90.25   772.80   \n",
       "2017-05-16  207.90  64.25      534.15  1539.00       90.65   785.00   \n",
       "2017-05-17  205.90  63.35      528.90  1530.30       88.85   783.65   \n",
       "2017-05-18  196.85  61.50      522.70  1515.05       86.90   746.95   \n",
       "2017-05-19  203.55  61.15      520.40  1513.55       85.05   723.10   \n",
       "...            ...    ...         ...      ...         ...      ...   \n",
       "2019-05-08  135.20  37.10      131.35  1780.10       52.45   807.10   \n",
       "2019-05-09  133.60  37.60      147.40  1748.50       51.50   805.30   \n",
       "2019-05-10  133.00  37.60      151.75  1758.45       52.60   804.40   \n",
       "2019-05-13  131.90  38.10      139.10  1715.40       51.50   779.35   \n",
       "NaT         129.70  34.75         NaN  1724.00         NaN      NaN   \n",
       "\n",
       "            LEMONTREE     NCC  LALPATHLAB  GUJALKALI  ...  ADANIPORTS  \\\n",
       "Date                                                  ...               \n",
       "2017-05-15      71.65   97.35      900.60     457.35  ...      356.20   \n",
       "2017-05-16      66.85  100.40      910.95     455.25  ...      354.50   \n",
       "2017-05-17      66.95  101.45      911.70     472.65  ...      348.55   \n",
       "2017-05-18      66.40   97.00      909.75     461.85  ...      347.90   \n",
       "2017-05-19      67.70   95.45      910.25     455.35  ...      349.45   \n",
       "...               ...     ...         ...        ...  ...         ...   \n",
       "2019-05-08        NaN   96.75     1013.10     522.90  ...      371.90   \n",
       "2019-05-09        NaN   93.70     1006.10     510.10  ...      369.80   \n",
       "2019-05-10        NaN   92.65      982.90     505.05  ...      363.90   \n",
       "2019-05-13        NaN   93.60      980.65     493.95  ...      372.55   \n",
       "NaT               NaN   91.45      976.25        NaN  ...      364.75   \n",
       "\n",
       "            AXISBANK       LT   MARUTI      M&M  RELIANCE  SUNPHARMA     ITC  \\\n",
       "Date                                                                           \n",
       "2017-05-15    500.10  1742.40  6823.90  1375.65   1344.10     654.45  277.95   \n",
       "2017-05-16    501.50  1740.70  6953.95  1366.35   1356.30     652.35  283.45   \n",
       "2017-05-17    502.80  1755.45  6958.20  1378.80   1353.10     650.90  281.65   \n",
       "2017-05-18    492.00  1722.60  6831.05  1352.85   1327.35     653.95  277.90   \n",
       "2017-05-19    501.70  1724.55  6790.55  1333.40   1318.85     653.15  286.20   \n",
       "...              ...      ...      ...      ...       ...        ...     ...   \n",
       "2019-05-08    741.85  1360.35  6709.65   645.80   1343.50     448.20  307.00   \n",
       "2019-05-09    735.50  1356.45  6702.00   638.50   1299.45     439.15  301.90   \n",
       "2019-05-10    731.00  1355.50  6650.15   636.00   1256.45     439.35  300.65   \n",
       "2019-05-13    735.05  1317.65  6624.95   621.65   1251.15     437.75  299.85   \n",
       "NaT           732.10      NaN  6631.60   625.45   1232.05     398.10  297.75   \n",
       "\n",
       "              GAIL     HDFC  \n",
       "Date                         \n",
       "2017-05-15  414.00  1559.50  \n",
       "2017-05-16  411.40   205.00  \n",
       "2017-05-17  408.30  1566.55  \n",
       "2017-05-18  404.75  1552.50  \n",
       "2017-05-19  401.05   207.00  \n",
       "...            ...      ...  \n",
       "2019-05-08  337.50  1875.10  \n",
       "2019-05-09  340.40   399.05  \n",
       "2019-05-10  341.55  1853.00  \n",
       "2019-05-13  332.05   380.15  \n",
       "NaT            NaN  1819.20  \n",
       "\n",
       "[495 rows x 30 columns]"
      ]
     },
     "execution_count": 37,
     "metadata": {},
     "output_type": "execute_result"
    }
   ],
   "source": [
    "dd"
   ]
  },
  {
   "cell_type": "code",
   "execution_count": null,
   "metadata": {},
   "outputs": [],
   "source": [
    "# Problem Statement 6.2\n",
    "# To do - \n",
    "# 1. Calculate the average annual percentage return and volatility of the 30 stocks for a duration of one year"
   ]
  },
  {
   "cell_type": "code",
   "execution_count": 38,
   "metadata": {},
   "outputs": [
    {
     "data": {
      "text/html": [
       "<div>\n",
       "<style scoped>\n",
       "    .dataframe tbody tr th:only-of-type {\n",
       "        vertical-align: middle;\n",
       "    }\n",
       "\n",
       "    .dataframe tbody tr th {\n",
       "        vertical-align: top;\n",
       "    }\n",
       "\n",
       "    .dataframe thead th {\n",
       "        text-align: right;\n",
       "    }\n",
       "</style>\n",
       "<table border=\"1\" class=\"dataframe\">\n",
       "  <thead>\n",
       "    <tr style=\"text-align: right;\">\n",
       "      <th></th>\n",
       "      <th>Returns</th>\n",
       "      <th>Volatility</th>\n",
       "    </tr>\n",
       "  </thead>\n",
       "  <tbody>\n",
       "    <tr>\n",
       "      <th>Fortis</th>\n",
       "      <td>-0.195125</td>\n",
       "      <td>0.526858</td>\n",
       "    </tr>\n",
       "    <tr>\n",
       "      <th>IDFC</th>\n",
       "      <td>-0.160038</td>\n",
       "      <td>0.332573</td>\n",
       "    </tr>\n",
       "    <tr>\n",
       "      <th>JETAIRWAYS</th>\n",
       "      <td>-0.174251</td>\n",
       "      <td>0.460918</td>\n",
       "    </tr>\n",
       "    <tr>\n",
       "      <th>PVR</th>\n",
       "      <td>-0.037029</td>\n",
       "      <td>0.291087</td>\n",
       "    </tr>\n",
       "    <tr>\n",
       "      <th>WELSPUNIND</th>\n",
       "      <td>-0.352877</td>\n",
       "      <td>0.402429</td>\n",
       "    </tr>\n",
       "    <tr>\n",
       "      <th>RAYMOND</th>\n",
       "      <td>0.296302</td>\n",
       "      <td>0.360621</td>\n",
       "    </tr>\n",
       "    <tr>\n",
       "      <th>LEMONTREE</th>\n",
       "      <td>0.056795</td>\n",
       "      <td>0.392313</td>\n",
       "    </tr>\n",
       "    <tr>\n",
       "      <th>NCC</th>\n",
       "      <td>0.204303</td>\n",
       "      <td>0.423042</td>\n",
       "    </tr>\n",
       "    <tr>\n",
       "      <th>LALPATHLAB</th>\n",
       "      <td>-0.015314</td>\n",
       "      <td>0.231538</td>\n",
       "    </tr>\n",
       "    <tr>\n",
       "      <th>GUJALKALI</th>\n",
       "      <td>0.373406</td>\n",
       "      <td>0.419161</td>\n",
       "    </tr>\n",
       "    <tr>\n",
       "      <th>ADANIPOWER</th>\n",
       "      <td>-0.307863</td>\n",
       "      <td>0.474092</td>\n",
       "    </tr>\n",
       "    <tr>\n",
       "      <th>AMARAJABAT</th>\n",
       "      <td>-0.134056</td>\n",
       "      <td>0.272496</td>\n",
       "    </tr>\n",
       "    <tr>\n",
       "      <th>MUTHOOTFIN</th>\n",
       "      <td>98.012474</td>\n",
       "      <td>17.469836</td>\n",
       "    </tr>\n",
       "    <tr>\n",
       "      <th>RELINFRA</th>\n",
       "      <td>-0.220921</td>\n",
       "      <td>0.392659</td>\n",
       "    </tr>\n",
       "    <tr>\n",
       "      <th>PNB</th>\n",
       "      <td>-0.380889</td>\n",
       "      <td>0.632830</td>\n",
       "    </tr>\n",
       "    <tr>\n",
       "      <th>JUBLFOOD</th>\n",
       "      <td>0.964540</td>\n",
       "      <td>0.339760</td>\n",
       "    </tr>\n",
       "    <tr>\n",
       "      <th>GODREJIND</th>\n",
       "      <td>0.081653</td>\n",
       "      <td>0.261883</td>\n",
       "    </tr>\n",
       "    <tr>\n",
       "      <th>IDBI</th>\n",
       "      <td>-0.069656</td>\n",
       "      <td>0.488528</td>\n",
       "    </tr>\n",
       "    <tr>\n",
       "      <th>RBLBANK</th>\n",
       "      <td>-0.001824</td>\n",
       "      <td>0.222846</td>\n",
       "    </tr>\n",
       "    <tr>\n",
       "      <th>JINDALSTEL</th>\n",
       "      <td>0.839789</td>\n",
       "      <td>0.486347</td>\n",
       "    </tr>\n",
       "    <tr>\n",
       "      <th>ADANIPORTS</th>\n",
       "      <td>0.118778</td>\n",
       "      <td>0.269860</td>\n",
       "    </tr>\n",
       "    <tr>\n",
       "      <th>AXISBANK</th>\n",
       "      <td>0.105831</td>\n",
       "      <td>0.279970</td>\n",
       "    </tr>\n",
       "    <tr>\n",
       "      <th>LT</th>\n",
       "      <td>-0.142329</td>\n",
       "      <td>0.378283</td>\n",
       "    </tr>\n",
       "    <tr>\n",
       "      <th>MARUTI</th>\n",
       "      <td>0.276915</td>\n",
       "      <td>0.178178</td>\n",
       "    </tr>\n",
       "    <tr>\n",
       "      <th>M&amp;M</th>\n",
       "      <td>-0.159086</td>\n",
       "      <td>0.543694</td>\n",
       "    </tr>\n",
       "    <tr>\n",
       "      <th>RELIANCE</th>\n",
       "      <td>-0.072942</td>\n",
       "      <td>0.533332</td>\n",
       "    </tr>\n",
       "    <tr>\n",
       "      <th>SUNPHARMA</th>\n",
       "      <td>-0.120577</td>\n",
       "      <td>0.342605</td>\n",
       "    </tr>\n",
       "    <tr>\n",
       "      <th>ITC</th>\n",
       "      <td>0.002702</td>\n",
       "      <td>0.239331</td>\n",
       "    </tr>\n",
       "    <tr>\n",
       "      <th>GAIL</th>\n",
       "      <td>-0.104570</td>\n",
       "      <td>0.362653</td>\n",
       "    </tr>\n",
       "    <tr>\n",
       "      <th>HDFC</th>\n",
       "      <td>499.404334</td>\n",
       "      <td>46.010207</td>\n",
       "    </tr>\n",
       "  </tbody>\n",
       "</table>\n",
       "</div>"
      ],
      "text/plain": [
       "               Returns  Volatility\n",
       "Fortis       -0.195125    0.526858\n",
       "IDFC         -0.160038    0.332573\n",
       "JETAIRWAYS   -0.174251    0.460918\n",
       "PVR          -0.037029    0.291087\n",
       "WELSPUNIND   -0.352877    0.402429\n",
       "RAYMOND       0.296302    0.360621\n",
       "LEMONTREE     0.056795    0.392313\n",
       "NCC           0.204303    0.423042\n",
       "LALPATHLAB   -0.015314    0.231538\n",
       "GUJALKALI     0.373406    0.419161\n",
       "ADANIPOWER   -0.307863    0.474092\n",
       "AMARAJABAT   -0.134056    0.272496\n",
       "MUTHOOTFIN   98.012474   17.469836\n",
       "RELINFRA     -0.220921    0.392659\n",
       "PNB          -0.380889    0.632830\n",
       "JUBLFOOD      0.964540    0.339760\n",
       "GODREJIND     0.081653    0.261883\n",
       "IDBI         -0.069656    0.488528\n",
       "RBLBANK      -0.001824    0.222846\n",
       "JINDALSTEL    0.839789    0.486347\n",
       "ADANIPORTS    0.118778    0.269860\n",
       "AXISBANK      0.105831    0.279970\n",
       "LT           -0.142329    0.378283\n",
       "MARUTI        0.276915    0.178178\n",
       "M&M          -0.159086    0.543694\n",
       "RELIANCE     -0.072942    0.533332\n",
       "SUNPHARMA    -0.120577    0.342605\n",
       "ITC           0.002702    0.239331\n",
       "GAIL         -0.104570    0.362653\n",
       "HDFC        499.404334   46.010207"
      ]
     },
     "execution_count": 38,
     "metadata": {},
     "output_type": "execute_result"
    }
   ],
   "source": [
    "dd = dd.dropna()\n",
    "returns = dd.pct_change().mean() * 252\n",
    "returns = pd.DataFrame(returns)\n",
    "returns.columns = ['Returns']\n",
    "returns['Volatility'] = dd.pct_change().std() * sqrt(252)\n",
    "returns"
   ]
  },
  {
   "cell_type": "code",
   "execution_count": null,
   "metadata": {},
   "outputs": [],
   "source": [
    "# Problem Statement 6.3\n",
    "# To do - \n",
    "# 1. Cluster the 30 stocks according to their returns and volatilities using k-means clustering"
   ]
  },
  {
   "cell_type": "code",
   "execution_count": 39,
   "metadata": {},
   "outputs": [
    {
     "data": {
      "image/png": "[encoded data removed]",
      "text/plain": [
       "<Figure size 432x288 with 1 Axes>"
      ]
     },
     "metadata": {
      "needs_background": "light"
     },
     "output_type": "display_data"
    }
   ],
   "source": [
    "from sklearn.cluster import KMeans\n",
    "from sklearn import metrics\n",
    "from scipy.spatial.distance import cdist\n",
    "import numpy as np\n",
    "import matplotlib.pyplot as plt\n",
    "\n",
    "data = np.asarray([np.asarray(returns['Returns']),np.asarray(returns['Volatility'])]).T\n",
    "X = data\n",
    "distortions = []\n",
    "K = range(1,10)\n",
    "for k in K:\n",
    "    kmeanModel = KMeans(n_clusters=k).fit(X)\n",
    "    kmeanModel.fit(X)\n",
    "    distortions.append(sum(np.min(cdist(X, kmeanModel.cluster_centers_, 'euclidean'), axis=1)) / X.shape[0])\n",
    "\n",
    "plt.plot(K, distortions, 'bx-')\n",
    "plt.xlabel('k')\n",
    "plt.ylabel('Distortion')\n",
    "plt.title('The Elbow Method showing the optimal k')\n",
    "plt.show()"
   ]
  },
  {
   "cell_type": "code",
   "execution_count": null,
   "metadata": {},
   "outputs": [],
   "source": [
    "# Problem Statement 6.4\n",
    "# To do - \n",
    "# 1. Prepare a separate dataframe to show wchich stocks belong in the same cluster"
   ]
  },
  {
   "cell_type": "code",
   "execution_count": 40,
   "metadata": {},
   "outputs": [
    {
     "data": {
      "text/plain": [
       "[<matplotlib.lines.Line2D at 0x1e38542a4c8>]"
      ]
     },
     "execution_count": 40,
     "metadata": {},
     "output_type": "execute_result"
    },
    {
     "data": {
      "image/png": "[encoded data removed]",
      "text/plain": [
       "<Figure size 432x288 with 1 Axes>"
      ]
     },
     "metadata": {
      "needs_background": "light"
     },
     "output_type": "display_data"
    }
   ],
   "source": [
    "centroids,_ = kmeans(X,3)\n",
    "idx,_ = vq(data,centroids)\n",
    "plot(data[idx==0,0],data[idx==0,1],'ob',\n",
    "     data[idx==1,0],data[idx==1,1],'oy',\n",
    "     data[idx==2,0],data[idx==2,1],'or',\n",
    "     data[idx==3,0],data[idx==3,1],'og',\n",
    "     data[idx==4,0],data[idx==4,1],'om')\n",
    "plot(centroids[:,0],centroids[:,1],'sg',markersize=3)"
   ]
  },
  {
   "cell_type": "code",
   "execution_count": 41,
   "metadata": {},
   "outputs": [
    {
     "name": "stdout",
     "output_type": "stream",
     "text": [
      "Returns       HDFC\n",
      "Volatility    HDFC\n",
      "dtype: object\n"
     ]
    }
   ],
   "source": [
    "print(returns.idxmax())"
   ]
  },
  {
   "cell_type": "code",
   "execution_count": 47,
   "metadata": {},
   "outputs": [],
   "source": [
    "returns.drop('HDFC',inplace=True)\n",
    "data = np.asarray([np.asarray(returns['Returns']),np.asarray(returns['Volatility'])]).T"
   ]
  },
  {
   "cell_type": "code",
   "execution_count": 48,
   "metadata": {},
   "outputs": [
    {
     "data": {
      "image/png": "[encoded data removed]",
      "text/plain": [
       "<Figure size 432x288 with 1 Axes>"
      ]
     },
     "metadata": {
      "needs_background": "light"
     },
     "output_type": "display_data"
    }
   ],
   "source": [
    "centroids,_ = kmeans(data,3)\n",
    "idx,_ = vq(data,centroids)\n",
    "plot(data[idx==0,0],data[idx==0,1],'ob',\n",
    "     data[idx==1,0],data[idx==1,1],'oy',\n",
    "     data[idx==2,0],data[idx==2,1],'or',\n",
    "     data[idx==3,0],data[idx==3,1],'og',\n",
    "     data[idx==4,0],data[idx==4,1],'om')\n",
    "plot(centroids[:,0],centroids[:,1],'sg',markersize=8)\n",
    "show()"
   ]
  },
  {
   "cell_type": "code",
   "execution_count": 49,
   "metadata": {},
   "outputs": [
    {
     "data": {
      "text/plain": [
       "[<matplotlib.lines.Line2D at 0x1e3860ad988>]"
      ]
     },
     "execution_count": 49,
     "metadata": {},
     "output_type": "execute_result"
    },
    {
     "data": {
      "image/png": "[encoded data removed]",
      "text/plain": [
       "<Figure size 432x288 with 1 Axes>"
      ]
     },
     "metadata": {
      "needs_background": "light"
     },
     "output_type": "display_data"
    }
   ],
   "source": [
    "centroids,_ = kmeans(X,3)\n",
    "idx,_ = vq(data,centroids)\n",
    "plot(data[idx==0,0],data[idx==0,1],'ob',\n",
    "     data[idx==1,0],data[idx==1,1],'oy',\n",
    "     data[idx==2,0],data[idx==2,1],'or',\n",
    "     data[idx==3,0],data[idx==3,1],'og',\n",
    "     data[idx==4,0],data[idx==4,1],'om')\n",
    "plot(centroids[:,0],centroids[:,1],'sg',markersize=3)"
   ]
  },
  {
   "cell_type": "code",
   "execution_count": 50,
   "metadata": {},
   "outputs": [
    {
     "name": "stdout",
     "output_type": "stream",
     "text": [
      "Returns       MUTHOOTFIN\n",
      "Volatility    MUTHOOTFIN\n",
      "dtype: object\n"
     ]
    }
   ],
   "source": [
    "print(returns.idxmax())"
   ]
  },
  {
   "cell_type": "code",
   "execution_count": 51,
   "metadata": {},
   "outputs": [],
   "source": [
    "returns.drop('MUTHOOTFIN',inplace=True)\n",
    "data = np.asarray([np.asarray(returns['Returns']),np.asarray(returns['Volatility'])]).T"
   ]
  },
  {
   "cell_type": "code",
   "execution_count": 52,
   "metadata": {},
   "outputs": [
    {
     "data": {
      "image/png": "[encoded data removed]",
      "text/plain": [
       "<Figure size 432x288 with 1 Axes>"
      ]
     },
     "metadata": {
      "needs_background": "light"
     },
     "output_type": "display_data"
    }
   ],
   "source": [
    "centroids,_ = kmeans(data,3)\n",
    "idx,_ = vq(data,centroids)\n",
    "plot(data[idx==0,0],data[idx==0,1],'ob',\n",
    "     data[idx==1,0],data[idx==1,1],'oy',\n",
    "     data[idx==2,0],data[idx==2,1],'or',\n",
    "     data[idx==3,0],data[idx==3,1],'og',\n",
    "     data[idx==4,0],data[idx==4,1],'om')\n",
    "plot(centroids[:,0],centroids[:,1],'sg',markersize=8)\n",
    "show()"
   ]
  },
  {
   "cell_type": "code",
   "execution_count": 53,
   "metadata": {},
   "outputs": [
    {
     "name": "stdout",
     "output_type": "stream",
     "text": [
      "('Fortis', 2)\n",
      "('IDFC', 2)\n",
      "('JETAIRWAYS', 2)\n",
      "('PVR', 1)\n",
      "('WELSPUNIND', 2)\n",
      "('RAYMOND', 1)\n",
      "('LEMONTREE', 1)\n",
      "('NCC', 1)\n",
      "('LALPATHLAB', 1)\n",
      "('GUJALKALI', 1)\n",
      "('ADANIPOWER', 2)\n",
      "('AMARAJABAT', 2)\n",
      "('RELINFRA', 2)\n",
      "('PNB', 2)\n",
      "('JUBLFOOD', 0)\n",
      "('GODREJIND', 1)\n",
      "('IDBI', 2)\n",
      "('RBLBANK', 1)\n",
      "('JINDALSTEL', 0)\n",
      "('ADANIPORTS', 1)\n",
      "('AXISBANK', 1)\n",
      "('LT', 2)\n",
      "('MARUTI', 1)\n",
      "('M&M', 2)\n",
      "('RELIANCE', 2)\n",
      "('SUNPHARMA', 2)\n",
      "('ITC', 1)\n",
      "('GAIL', 2)\n"
     ]
    }
   ],
   "source": [
    "details = [(name,cluster) for name, cluster in zip(returns.index,idx)]\n",
    "for detail in details:\n",
    "    print(detail)"
   ]
  },
  {
   "cell_type": "code",
   "execution_count": null,
   "metadata": {},
   "outputs": [],
   "source": []
  }
 ],
 "metadata": {
  "kernelspec": {
   "display_name": "Python 3",
   "language": "python",
   "name": "python3"
  },
  "language_info": {
   "codemirror_mode": {
    "name": "ipython",
    "version": 3
   },
   "file_extension": ".py",
   "mimetype": "text/x-python",
   "name": "python",
   "nbconvert_exporter": "python",
   "pygments_lexer": "ipython3",
   "version": "3.7.6"
  }
 },
 "nbformat": 4,
 "nbformat_minor": 4
}
